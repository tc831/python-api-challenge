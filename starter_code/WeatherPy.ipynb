{
 "cells": [
  {
   "cell_type": "markdown",
   "metadata": {},
   "source": [
    "# WeatherPy\n",
    "----\n",
    "\n",
    "#### Note\n",
    "* Instructions have been included for each segment. You do not have to follow them exactly, but they are included to help you think through the steps."
   ]
  },
  {
   "cell_type": "code",
   "execution_count": 1,
   "metadata": {
    "scrolled": true
   },
   "outputs": [],
   "source": [
    "# Dependencies and Setup\n",
    "import matplotlib.pyplot as plt\n",
    "import pandas as pd\n",
    "import numpy as np\n",
    "import requests\n",
    "import time\n",
    "from scipy.stats import linregress\n",
    "import json\n",
    "from pprint import pprint\n",
    "\n",
    "# Import API key\n",
    "from api_keys import weather_api_key\n",
    "\n",
    "# Incorporated citipy to determine city based on latitude and longitude\n",
    "from citipy import citipy\n",
    "\n",
    "# Output File (CSV)\n",
    "output_data_file = \"../output_data/cities.csv\"\n",
    "\n",
    "# Range of latitudes and longitudes\n",
    "lat_range = (-90, 90)\n",
    "lng_range = (-180, 180)"
   ]
  },
  {
   "cell_type": "markdown",
   "metadata": {},
   "source": [
    "## Generate Cities List"
   ]
  },
  {
   "cell_type": "code",
   "execution_count": 2,
   "metadata": {},
   "outputs": [
    {
     "data": {
      "text/plain": [
       "630"
      ]
     },
     "execution_count": 2,
     "metadata": {},
     "output_type": "execute_result"
    }
   ],
   "source": [
    "# List for holding lat_lngs and cities\n",
    "lat_lngs = []\n",
    "cities = []\n",
    "\n",
    "# Create a set of random lat and lng combinations\n",
    "lats = np.random.uniform(lat_range[0], lat_range[1], size=1500)\n",
    "lngs = np.random.uniform(lng_range[0], lng_range[1], size=1500)\n",
    "lat_lngs = zip(lats, lngs)\n",
    "\n",
    "# Identify nearest city for each lat, lng combination\n",
    "for lat_lng in lat_lngs:\n",
    "    city = citipy.nearest_city(lat_lng[0], lat_lng[1]).city_name\n",
    "    \n",
    "    # If the city is unique, then add it to a our cities list\n",
    "    if city not in cities:\n",
    "        cities.append(city)\n",
    "\n",
    "# Print the city count to confirm sufficient count\n",
    "len(cities)"
   ]
  },
  {
   "cell_type": "markdown",
   "metadata": {},
   "source": [
    "### Perform API Calls\n",
    "* Perform a weather check on each city using a series of successive API calls.\n",
    "* Include a print log of each city as it'sbeing processed (with the city number and city name).\n"
   ]
  },
  {
   "cell_type": "code",
   "execution_count": 3,
   "metadata": {},
   "outputs": [],
   "source": [
    "base_url = \"http://api.openweathermap.org/data/2.5/weather?appid=\"\n",
    "api_key = weather_api_key\n",
    "units = \"imperial\"\n",
    "query_url = f\"{base_url}{api_key}&units={units}&q=\""
   ]
  },
  {
   "cell_type": "code",
   "execution_count": 4,
   "metadata": {
    "scrolled": true
   },
   "outputs": [
    {
     "name": "stdout",
     "output_type": "stream",
     "text": [
      "Processing city 0: Mataura\n",
      "Processing city 1: Ribeira\n",
      "Processing city 2: Albany\n",
      "Processing city 3: Auki\n",
      "Processing city 4: Nanlong\n",
      "Processing city 5: Mahébourg\n",
      "Couldn't find data. Pass on city\n",
      "Processing city 7: Nanortalik\n",
      "Processing city 8: Westport\n",
      "Processing city 9: Vardø\n",
      "Processing city 10: Qaqortoq\n",
      "Processing city 11: Trelew\n",
      "Processing city 12: Kaya\n",
      "Couldn't find data. Pass on city\n",
      "Couldn't find data. Pass on city\n",
      "Processing city 15: Vaini\n",
      "Processing city 16: Port\n",
      "Processing city 17: Rikitea\n",
      "Processing city 18: Busselton\n",
      "Processing city 19: El Puerto de Santa María\n",
      "Processing city 20: Hobart\n",
      "Processing city 21: Jiuquan\n",
      "Processing city 22: Chui\n",
      "Processing city 23: Punta\n",
      "Couldn't find data. Pass on city\n",
      "Processing city 25: Arrondissement de Vannes\n",
      "Processing city 26: Northam\n",
      "Processing city 27: Barrow\n",
      "Processing city 28: Lebu\n",
      "Processing city 29: Pisco\n",
      "Processing city 30: Kayerkan\n",
      "Processing city 31: Tapah\n",
      "Couldn't find data. Pass on city\n",
      "Processing city 33: Longyearbyen\n",
      "Processing city 34: Kongolo\n",
      "Processing city 35: Bluff\n",
      "Processing city 36: Butaritari\n",
      "Processing city 37: Macaé\n",
      "Processing city 38: Qaanaaq\n",
      "Processing city 39: Dikson\n",
      "Processing city 40: Ancud\n",
      "Couldn't find data. Pass on city\n",
      "Processing city 42: El Puerto de Santa María\n",
      "Processing city 43: Castro\n",
      "Processing city 44: Bethel\n",
      "Processing city 45: Kavaratti\n",
      "Processing city 46: Cidreira\n",
      "Couldn't find data. Pass on city\n",
      "Processing city 48: Saint-Philippe\n",
      "Processing city 49: Berlevåg\n",
      "Processing city 50: Souillac\n",
      "Processing city 51: Wanaka\n",
      "Processing city 52: Atuona\n",
      "Processing city 53: Ust'-Omchug\n",
      "Couldn't find data. Pass on city\n",
      "Processing city 55: Ossora\n",
      "Processing city 56: Nikolskoye\n",
      "Processing city 57: Obuasi\n",
      "Processing city 58: Aden\n",
      "Processing city 59: Jacutinga\n",
      "Processing city 60: Rizhao\n",
      "Couldn't find data. Pass on city\n",
      "Processing city 62: Gondanglegi\n",
      "Processing city 63: Hilo\n",
      "Processing city 64: San\n",
      "Couldn't find data. Pass on city\n",
      "Couldn't find data. Pass on city\n",
      "Processing city 67: Mórrope\n",
      "Processing city 68: Ushuaia\n",
      "Processing city 69: Lüderitz\n",
      "Processing city 70: Sanandij\n",
      "Processing city 71: Muborak\n",
      "Processing city 72: San\n",
      "Processing city 73: Lewistown\n",
      "Processing city 74: Chokurdakh\n",
      "Processing city 75: Fortuna\n",
      "Processing city 76: Jamestown\n",
      "Processing city 77: Kysyl-Syr\n",
      "Couldn't find data. Pass on city\n",
      "Processing city 79: Krasnyy\n",
      "Processing city 80: Tasiilaq\n",
      "Processing city 81: Tabuk\n",
      "Processing city 82: Paramonga\n",
      "Processing city 83: Opunake\n",
      "Processing city 84: Kapaa\n",
      "Processing city 85: Upernavik\n",
      "Processing city 86: Bay\n",
      "Couldn't find data. Pass on city\n",
      "Processing city 88: Las\n",
      "Processing city 89: Vestmannaeyjar\n",
      "Processing city 90: Mogadishu\n",
      "Processing city 91: Kahului\n",
      "Processing city 92: Iqaluit\n",
      "Processing city 93: New\n",
      "Processing city 94: Shablykino\n",
      "Processing city 95: Nome\n",
      "Processing city 96: Tiksi\n",
      "Processing city 97: Ponta\n",
      "Processing city 98: Port\n",
      "Processing city 99: George Town\n",
      "Processing city 100: Vallenar\n",
      "Processing city 101: Kruisfontein\n",
      "Couldn't find data. Pass on city\n",
      "Processing city 103: San\n",
      "Processing city 104: Marsa\n",
      "Processing city 105: Sisimiut\n",
      "Processing city 106: Kagoro\n",
      "Processing city 107: Alexandria\n",
      "Processing city 108: Sao\n",
      "Processing city 109: Kindu\n",
      "Processing city 110: Malanje\n",
      "Processing city 111: Bunia\n",
      "Processing city 112: Lavrentiya\n",
      "Processing city 113: Raudeberg\n",
      "Processing city 114: Millinocket\n",
      "Processing city 115: Maragogi\n",
      "Couldn't find data. Pass on city\n",
      "Processing city 117: Kholm\n",
      "Processing city 118: Cape\n",
      "Processing city 119: Hasaki\n",
      "Couldn't find data. Pass on city\n",
      "Processing city 121: Avarua\n",
      "Couldn't find data. Pass on city\n",
      "Processing city 123: Kaeo\n",
      "Processing city 124: Molagavita\n",
      "Processing city 125: Miranda\n",
      "Processing city 126: Mossamedes\n",
      "Processing city 127: San\n",
      "Processing city 128: Santarém\n",
      "Processing city 129: Uyuni\n",
      "Processing city 130: Laas\n",
      "Processing city 131: Carroll\n",
      "Processing city 132: Orcopampa\n",
      "Processing city 133: Sao\n",
      "Couldn't find data. Pass on city\n",
      "Processing city 135: Yulara\n",
      "Processing city 136: Aklavik\n",
      "Processing city 137: Mar\n",
      "Processing city 138: Saskylakh\n",
      "Processing city 139: Pyapon\n",
      "Processing city 140: Saldanha\n",
      "Processing city 141: Kiryat Gat\n",
      "Processing city 142: Lagoa\n",
      "Processing city 143: Flin\n",
      "Processing city 144: Sinnamary\n",
      "Processing city 145: Ruteng\n",
      "Processing city 146: Lunenburg\n",
      "Processing city 147: Rio\n",
      "Processing city 148: Mudu\n",
      "Processing city 149: Hamilton\n",
      "Couldn't find data. Pass on city\n",
      "Processing city 151: Constantine\n",
      "Processing city 152: Wajid\n",
      "Processing city 153: Nauta\n",
      "Processing city 154: Buala\n",
      "Processing city 155: Gaza\n",
      "Processing city 156: Mkushi\n",
      "Processing city 157: Yumen\n",
      "Processing city 158: Carnarvon\n",
      "Processing city 159: Tuktoyaktuk\n",
      "Couldn't find data. Pass on city\n",
      "Processing city 161: Tekeli\n",
      "Processing city 162: Peruíbe\n",
      "Processing city 163: Luwuk\n",
      "Couldn't find data. Pass on city\n",
      "Processing city 165: Léo\n",
      "Processing city 166: Thinadhoo\n",
      "Processing city 167: Dingle\n",
      "Processing city 168: Kirakira\n",
      "Processing city 169: Alofi\n",
      "Processing city 170: Geraldton\n",
      "Couldn't find data. Pass on city\n",
      "Processing city 172: Kokoda\n",
      "Processing city 173: Saint-Augustin\n",
      "Processing city 174: Tura\n",
      "Processing city 175: Ishigaki\n",
      "Couldn't find data. Pass on city\n",
      "Processing city 177: Cabo\n",
      "Processing city 178: Port\n",
      "Processing city 179: Airai\n",
      "Processing city 180: Arraial\n",
      "Processing city 181: Baruun-Urt\n",
      "Processing city 182: Searcy\n",
      "Processing city 183: Pudozh\n",
      "Processing city 184: Port\n",
      "Processing city 185: Tiarei\n",
      "Processing city 186: Mbengwi\n",
      "Couldn't find data. Pass on city\n",
      "Processing city 188: Yangi Marg`ilon\n",
      "Processing city 189: Buraidah\n",
      "Processing city 190: Khanbari\n",
      "Processing city 191: Deputatsky\n",
      "Processing city 192: Peace\n",
      "Processing city 193: Palmer\n",
      "Processing city 194: Hay-on-wye\n",
      "Processing city 195: Balkanabat\n",
      "Processing city 196: Maningrida\n",
      "Processing city 197: Hofn\n",
      "Processing city 198: Constitución\n",
      "Processing city 199: Khatanga\n",
      "Processing city 200: San\n",
      "Processing city 201: Hithadhoo\n",
      "Processing city 202: Chapais\n",
      "Processing city 203: Havre-St-Pierre\n",
      "Couldn't find data. Pass on city\n",
      "Processing city 205: Saint Paul Harbor\n",
      "Processing city 206: Camocim\n",
      "Processing city 207: Aplahoué\n",
      "Processing city 208: Nioki\n",
      "Processing city 209: Chara\n",
      "Couldn't find data. Pass on city\n",
      "Processing city 211: Port\n",
      "Processing city 212: ban\n",
      "Couldn't find data. Pass on city\n",
      "Processing city 214: Thompson\n",
      "Processing city 215: Ostrovnoy\n",
      "Processing city 216: Hermanus\n",
      "Couldn't find data. Pass on city\n",
      "Processing city 218: Torbay\n",
      "Processing city 219: Brigantine\n",
      "Processing city 220: Kushmurun\n",
      "Processing city 221: Aras\n",
      "Processing city 222: Sambava\n",
      "Processing city 223: Esperance\n",
      "Processing city 224: Bubaque\n",
      "Processing city 225: Petropavlovsk-Kamchatskiy\n",
      "Processing city 226: Coyhaique\n",
      "Processing city 227: Jaqué\n",
      "Couldn't find data. Pass on city\n",
      "Processing city 229: Port\n",
      "Processing city 230: Mount\n",
      "Processing city 231: Wanning\n",
      "Processing city 232: Esmeraldas\n",
      "Processing city 233: Fort\n",
      "Processing city 234: Nantucket\n",
      "Processing city 235: Sandwick\n",
      "Processing city 236: Santa\n",
      "Processing city 237: Kaitangata\n",
      "Processing city 238: Inhambane\n",
      "Processing city 239: Pontianak\n",
      "Processing city 240: Agadez\n",
      "Processing city 241: Turkmenabat\n",
      "Processing city 242: Tuatapere\n",
      "Processing city 243: Hualmay\n",
      "Processing city 244: Nizhniy\n",
      "Processing city 245: El Puerto de Santa María\n",
      "Processing city 246: Dudinka\n",
      "Processing city 247: Darovskoy\n",
      "Processing city 248: Pachino\n",
      "Processing city 249: Lahān\n",
      "Processing city 250: Verkhniy\n",
      "Processing city 251: Ndioum\n",
      "Processing city 252: Kidal\n",
      "Processing city 253: Clyde\n",
      "Processing city 254: Bucine\n",
      "Processing city 255: East\n",
      "Processing city 256: Ketchikan\n",
      "Processing city 257: Katsuura\n",
      "Processing city 258: Tulsīpur\n",
      "Processing city 259: Phan\n",
      "Processing city 260: Kodinsk\n",
      "Processing city 261: Severo-Kuril'sk\n",
      "Processing city 262: Yellowknife\n",
      "Couldn't find data. Pass on city\n",
      "Processing city 264: Khanpur\n",
      "Couldn't find data. Pass on city\n",
      "Processing city 266: Port\n",
      "Processing city 267: Codrington\n",
      "Processing city 268: Hong Kong\n",
      "Processing city 269: Birao\n",
      "Couldn't find data. Pass on city\n",
      "Processing city 271: Bonavista\n",
      "Processing city 272: Kloulklubed\n",
      "Processing city 273: Wahiawā\n",
      "Processing city 274: Kavieng\n",
      "Processing city 275: Pauini\n",
      "Processing city 276: Vilhena\n",
      "Processing city 277: Pangoa\n"
     ]
    },
    {
     "name": "stdout",
     "output_type": "stream",
     "text": [
      "Processing city 278: Hazorasp\n",
      "Processing city 279: San\n",
      "Processing city 280: Opuwo\n",
      "Processing city 281: Baykit\n",
      "Processing city 282: Bredasdorp\n",
      "Processing city 283: Killybegs\n",
      "Processing city 284: Sakakah\n",
      "Processing city 285: Aykhal\n",
      "Processing city 286: Oktyabr'skiy\n",
      "Processing city 287: Tarko-Sale\n",
      "Processing city 288: Mackay\n",
      "Processing city 289: Mys\n",
      "Couldn't find data. Pass on city\n",
      "Couldn't find data. Pass on city\n",
      "Processing city 292: Novo\n",
      "Processing city 293: Vestmanna\n",
      "Processing city 294: Ucluelet\n",
      "Processing city 295: Cap\n",
      "Processing city 296: Chajul\n",
      "Processing city 297: Adrar\n",
      "Processing city 298: Malakal\n",
      "Processing city 299: Ambanja\n",
      "Processing city 300: Ludvika\n",
      "Processing city 301: Piaçabuçu\n",
      "Processing city 302: Rovaniemi\n",
      "Processing city 303: Labuhan\n",
      "Processing city 304: Suez\n",
      "Processing city 305: Komatipoort\n",
      "Processing city 306: Burley\n",
      "Processing city 307: Bogorodskoye\n",
      "Processing city 308: Kalmunai\n",
      "Processing city 309: Taltal\n",
      "Processing city 310: Vostok\n",
      "Processing city 311: Along\n",
      "Processing city 312: Calvinia\n",
      "Processing city 313: Urengoy\n",
      "Processing city 314: Urusha\n",
      "Processing city 315: San\n",
      "Processing city 316: Lyngseidet\n",
      "Processing city 317: Tam\n",
      "Processing city 318: Vao\n",
      "Processing city 319: Nioro\n",
      "Processing city 320: Mnogovershinnyy\n",
      "Processing city 321: Tondon\n",
      "Processing city 322: Vanimo\n",
      "Processing city 323: Padang\n",
      "Processing city 324: Sennar\n",
      "Processing city 325: Mandera\n",
      "Processing city 326: Medvedevo\n",
      "Processing city 327: Half\n",
      "Processing city 328: Ryōtsu-minato\n",
      "Processing city 329: Sinjār\n",
      "Processing city 330: Palana\n",
      "Processing city 331: Pulaski\n",
      "Processing city 332: Shiroi\n",
      "Processing city 333: Solntsevo\n",
      "Processing city 334: Pevek\n",
      "Processing city 335: Smithers\n",
      "Processing city 336: Wuwei\n",
      "Processing city 337: Cherskiy\n",
      "Processing city 338: Mitsamiouli\n",
      "Couldn't find data. Pass on city\n",
      "Processing city 340: Conakry\n",
      "Processing city 341: Richards\n",
      "Processing city 342: Peterhead\n",
      "Processing city 343: Jalu\n",
      "Processing city 344: Neuquén\n",
      "Processing city 345: Murray\n",
      "Couldn't find data. Pass on city\n",
      "Processing city 347: Salalah\n",
      "Processing city 348: Lagos\n",
      "Processing city 349: Anderson\n",
      "Processing city 350: Klaksvík\n",
      "Processing city 351: Coahuayana Viejo\n",
      "Processing city 352: Guerrero\n",
      "Processing city 353: Campbell\n",
      "Processing city 354: Arman'\n",
      "Processing city 355: Sarh\n",
      "Processing city 356: Rongcheng\n",
      "Processing city 357: Bandarbeyla\n",
      "Processing city 358: Morros\n",
      "Processing city 359: Ipanema\n",
      "Processing city 360: Kutum\n",
      "Processing city 361: Touros\n",
      "Processing city 362: Leningradskiy\n",
      "Processing city 363: Bajil\n",
      "Processing city 364: Lerik\n",
      "Processing city 365: Ekhabi\n",
      "Processing city 366: Ponta\n",
      "Couldn't find data. Pass on city\n",
      "Processing city 368: Vila\n",
      "Processing city 369: Ambulu\n",
      "Processing city 370: Ormara\n",
      "Processing city 371: Salamiyah\n",
      "Processing city 372: Brae\n",
      "Processing city 373: Shimoda\n",
      "Processing city 374: Säkylä\n",
      "Processing city 375: Kuril'sk\n",
      "Processing city 376: Lompoc\n",
      "Processing city 377: Camacha\n",
      "Processing city 378: Teya\n",
      "Processing city 379: Manaure\n",
      "Processing city 380: Teknāf\n",
      "Processing city 381: Broome\n",
      "Processing city 382: Takoradze\n",
      "Processing city 383: Tshikapa\n",
      "Processing city 384: Yar-Sale\n",
      "Processing city 385: Cedar\n",
      "Processing city 386: Havelock\n",
      "Processing city 387: Caravelas\n",
      "Processing city 388: Hambantota\n",
      "Processing city 389: Qandala\n",
      "Processing city 390: Oistins\n",
      "Processing city 391: Yairipok\n",
      "Processing city 392: Belmonte\n",
      "Processing city 393: Grand\n",
      "Processing city 394: Bilma\n",
      "Processing city 395: Digby\n",
      "Processing city 396: Santiago\n",
      "Processing city 397: Arinos\n",
      "Processing city 398: Novyy\n",
      "Processing city 399: Aykino\n",
      "Couldn't find data. Pass on city\n",
      "Processing city 401: Sovetskaya\n",
      "Processing city 402: Eldorado\n",
      "Processing city 403: Salto\n",
      "Processing city 404: Liverpool\n",
      "Processing city 405: Kawalu\n",
      "Processing city 406: Noumea\n",
      "Processing city 407: Kibala\n",
      "Processing city 408: Zaozyornoye\n",
      "Processing city 409: Grindavik\n",
      "Processing city 410: Pacifica\n",
      "Processing city 411: Velsk\n",
      "Processing city 412: Pandan\n",
      "Processing city 413: Faanui\n",
      "Processing city 414: Saurimo\n",
      "Couldn't find data. Pass on city\n",
      "Processing city 416: Egvekinot\n",
      "Processing city 417: Portland\n",
      "Processing city 418: Havøysund\n",
      "Processing city 419: El Puerto de Santa María\n",
      "Processing city 420: Siguiri\n",
      "Processing city 421: Avera\n",
      "Processing city 422: Coquimbo\n",
      "Processing city 423: Keratea\n",
      "Processing city 424: Departamento de Maldonado\n",
      "Processing city 425: Booué\n",
      "Processing city 426: Polunochnoye\n",
      "Processing city 427: Kathu\n",
      "Processing city 428: Estância\n",
      "Processing city 429: Zatoka\n",
      "Processing city 430: Kamenka\n",
      "Processing city 431: Msanga\n",
      "Couldn't find data. Pass on city\n",
      "Processing city 433: Eten\n",
      "Processing city 434: Kannur\n",
      "Processing city 435: Ambikāpur\n",
      "Processing city 436: Kuala\n",
      "Processing city 437: Puebloviejo\n",
      "Processing city 438: Hilton\n",
      "Processing city 439: Coari\n",
      "Processing city 440: Talaya\n",
      "Processing city 441: Talnakh\n",
      "Processing city 442: Taoudenni\n",
      "Processing city 443: Kropotkin\n",
      "Processing city 444: Faro\n",
      "Processing city 445: Krasnosel'kup\n",
      "Couldn't find data. Pass on city\n",
      "Processing city 447: Port\n",
      "Processing city 448: Volosovo\n",
      "Processing city 449: Concarneau\n",
      "Processing city 450: Ust'-Koksa\n",
      "Processing city 451: Mareeba\n",
      "Processing city 452: Utete\n",
      "Processing city 453: Muzhi\n",
      "Processing city 454: Baharly\n",
      "Processing city 455: Narsaq\n",
      "Processing city 456: Norman\n",
      "Processing city 457: Aasiaat\n",
      "Processing city 458: Ten'gushevo\n",
      "Processing city 459: North\n",
      "Processing city 460: Caçapava\n",
      "Processing city 461: Mayo\n",
      "Couldn't find data. Pass on city\n",
      "Processing city 463: Basco\n",
      "Processing city 464: Comodoro\n",
      "Processing city 465: Acapulco de Juárez\n",
      "Processing city 466: Liaocheng\n",
      "Processing city 467: San\n",
      "Processing city 468: Provincia di Benevento\n",
      "Couldn't find data. Pass on city\n",
      "Processing city 470: Caraballeda\n",
      "Processing city 471: Sao\n",
      "Couldn't find data. Pass on city\n",
      "Processing city 473: Kokopo\n",
      "Processing city 474: Grand\n",
      "Processing city 475: Port\n",
      "Processing city 476: Wajima\n",
      "Processing city 477: Lázaro\n",
      "Processing city 478: Potam\n",
      "Processing city 479: Bānda\n",
      "Processing city 480: Ilulissat\n",
      "Processing city 481: Laguna\n",
      "Processing city 482: Grand\n",
      "Processing city 483: Fairbanks\n",
      "Processing city 484: Alto\n",
      "Couldn't find data. Pass on city\n",
      "Processing city 486: Terrace\n",
      "Processing city 487: Tilichiki\n",
      "Processing city 488: Altay\n",
      "Processing city 489: Gillette\n",
      "Processing city 490: Chilliwack\n",
      "Processing city 491: Yokadouma\n",
      "Processing city 492: Ténenkou\n",
      "Processing city 493: Prabumulih\n",
      "Couldn't find data. Pass on city\n",
      "Processing city 495: Bokoro\n",
      "Processing city 496: Pravokumskoye\n",
      "Processing city 497: Necochea\n",
      "Processing city 498: Ziarat\n",
      "Processing city 499: Manaquiri\n",
      "Processing city 500: Pacific\n",
      "Processing city 501: Waverly\n",
      "Processing city 502: Beringovskiy\n",
      "Processing city 503: Palmerston\n",
      "Processing city 504: Oranjemund\n",
      "Processing city 505: Maniitsoq\n",
      "Processing city 506: Vila\n",
      "Processing city 507: Pyaozerskiy\n",
      "Processing city 508: Semnan\n",
      "Processing city 509: Nouadhibou\n",
      "Processing city 510: Provideniya\n",
      "Couldn't find data. Pass on city\n",
      "Processing city 512: Persianovskiy\n",
      "Processing city 513: Khovd\n",
      "Processing city 514: Maceió\n",
      "Processing city 515: Arlit\n",
      "Processing city 516: Tucumcari\n",
      "Processing city 517: Tabas\n",
      "Processing city 518: Beyşehir\n",
      "Couldn't find data. Pass on city\n",
      "Processing city 520: Belyy\n",
      "Processing city 521: Goderich\n",
      "Processing city 522: Trat\n",
      "Processing city 523: Rome\n",
      "Processing city 524: Ürümqi\n",
      "Processing city 525: Nhulunbuy\n",
      "Processing city 526: Yatou\n",
      "Processing city 527: Nicoya\n",
      "Processing city 528: Rockford\n",
      "Processing city 529: Ghanzi\n",
      "Processing city 530: Bambous\n",
      "Processing city 531: Abhar\n",
      "Processing city 532: Iquique\n",
      "Processing city 533: Sur\n",
      "Processing city 534: Dunedin\n",
      "Processing city 535: Srednekolymsk\n",
      "Processing city 536: Buchanan\n",
      "Processing city 537: Itupiranga\n",
      "Processing city 538: Tsimlyansk\n",
      "Processing city 539: Igarka\n",
      "Processing city 540: Córdoba\n",
      "Couldn't find data. Pass on city\n",
      "Processing city 542: Alice\n",
      "Processing city 543: Hobyo\n",
      "Processing city 544: Khorixas\n",
      "Processing city 545: Løpsmarka\n",
      "Processing city 546: Uinskoye\n",
      "Processing city 547: Acaraú\n",
      "Processing city 548: Kumul\n",
      "Processing city 549: Senador\n",
      "Processing city 550: Cayenne\n",
      "Processing city 551: Sobolevo\n",
      "Processing city 552: Moa\n",
      "Processing city 553: Kizema\n",
      "Processing city 554: Strelka\n",
      "Processing city 555: Bhalwal\n"
     ]
    },
    {
     "name": "stdout",
     "output_type": "stream",
     "text": [
      "Processing city 556: Coevorden\n",
      "Processing city 557: Tommot\n",
      "Processing city 558: Hirara\n",
      "Processing city 559: Okha\n",
      "Processing city 560: Urucará\n",
      "Couldn't find data. Pass on city\n",
      "Processing city 562: Bissau\n",
      "Processing city 563: Natal\n",
      "Processing city 564: Ballinrobe\n",
      "Processing city 565: Desbiens\n",
      "Processing city 566: Victor\n",
      "Processing city 567: Qinzhou\n",
      "Processing city 568: Wattegama\n",
      "Processing city 569: Naranjos\n",
      "Processing city 570: Monrovia\n",
      "Processing city 571: Morehead\n",
      "Processing city 572: Sahāranpur\n",
      "Processing city 573: Antalaha\n",
      "Processing city 574: Xai-Xai\n",
      "Processing city 575: Zhuhai\n",
      "Processing city 576: Minas\n",
      "Processing city 577: Cockburn\n",
      "Processing city 578: Monterey\n",
      "Couldn't find data. Pass on city\n",
      "Couldn't find data. Pass on city\n",
      "Processing city 581: Araripe\n",
      "Processing city 582: Kansanshi\n",
      "Processing city 583: Srandakan\n",
      "Processing city 584: Médéa\n",
      "Couldn't find data. Pass on city\n",
      "Processing city 586: Graham\n",
      "Processing city 587: Paamiut\n",
      "Processing city 588: Samarai\n",
      "Processing city 589: Oddur\n",
      "Processing city 590: Skjervøy\n",
      "Processing city 591: Bosaso\n",
      "Processing city 592: Suleya\n",
      "Couldn't find data. Pass on city\n",
      "Processing city 594: Ulaangom\n",
      "Processing city 595: Defiance\n",
      "Processing city 596: Naze\n",
      "Processing city 597: Muros\n",
      "Processing city 598: Bengkulu\n",
      "Processing city 599: Arrondissement de Saint-Dizier\n",
      "Processing city 600: Madang\n",
      "Processing city 601: Tromsø\n",
      "Processing city 602: Khor\n",
      "Processing city 603: Taku\n",
      "Processing city 604: Bathsheba\n",
      "Processing city 605: Ma’e\n",
      "Processing city 606: Slobidka\n",
      "Processing city 607: Dulyapino\n",
      "Processing city 608: Salym\n",
      "Processing city 609: Isangel\n",
      "Processing city 610: Najrān\n",
      "Processing city 611: Olafsvik\n",
      "Processing city 612: Kandrian\n",
      "Processing city 613: Östersund\n",
      "Processing city 614: Tazovsky\n",
      "Processing city 615: Lamu\n",
      "Processing city 616: Praia\n",
      "Couldn't find data. Pass on city\n",
      "Processing city 618: Gao\n",
      "Processing city 619: Riyadh\n",
      "Processing city 620: Haapiti\n",
      "Couldn't find data. Pass on city\n",
      "Couldn't find data. Pass on city\n",
      "Processing city 623: Mauá\n",
      "Processing city 624: Karratha\n",
      "Processing city 625: Bač\n",
      "Processing city 626: Seoul\n",
      "Processing city 627: Cervo\n",
      "Processing city 628: Rajanpur\n",
      "Processing city 629: Rūdbār\n",
      "City Data retrieval complete.\n"
     ]
    }
   ],
   "source": [
    "# Create dictionary to store data from API calls\n",
    "city_weather_data = {\"City\": [],\n",
    "                     \"Lat\": [],\n",
    "                     \"Lng\": [],\n",
    "                     \"Max Temp\": [],\n",
    "                     \"Humidity\": [],\n",
    "                     \"Cloudiness\": [],\n",
    "                     \"Wind Speed\": [],\n",
    "                     \"Country\": [],\n",
    "                     \"Date\": []}\n",
    "\n",
    "# Loop thru the API call data to add the data retrieved into the dictionary\n",
    "for i, city in enumerate(cities):\n",
    "    city = requests.get(query_url + cities[i].replace(\" \",\"&\")).json()\n",
    "\n",
    "    try:\n",
    "        print(f\"Processing city \" + str(i) + \": \" + city[\"name\"])\n",
    "\n",
    "        city_weather_data[\"City\"].append(city[\"name\"])\n",
    "        city_weather_data[\"Lat\"].append(city[\"coord\"][\"lat\"])\n",
    "        city_weather_data[\"Lng\"].append(city[\"coord\"][\"lon\"])\n",
    "        city_weather_data[\"Max Temp\"].append(city[\"main\"][\"temp_max\"])\n",
    "        city_weather_data[\"Humidity\"].append(city[\"main\"][\"humidity\"])\n",
    "        city_weather_data[\"Cloudiness\"].append(city[\"clouds\"][\"all\"])\n",
    "        city_weather_data[\"Wind Speed\"].append(city[\"wind\"][\"speed\"])\n",
    "        city_weather_data[\"Country\"].append(city[\"sys\"][\"country\"])\n",
    "        city_weather_data[\"Date\"].append(city[\"dt\"])\n",
    "\n",
    "    except:\n",
    "        print(f\"Couldn't find data. Pass on city\")\n",
    "        \n",
    "print(\"City Data retrieval complete.\")"
   ]
  },
  {
   "cell_type": "markdown",
   "metadata": {},
   "source": [
    "### Convert Raw Data to DataFrame\n",
    "* Export the city data into a .csv.\n",
    "* Display the DataFrame"
   ]
  },
  {
   "cell_type": "code",
   "execution_count": 5,
   "metadata": {},
   "outputs": [
    {
     "name": "stdout",
     "output_type": "stream",
     "text": [
      "City          573\n",
      "Lat           573\n",
      "Lng           573\n",
      "Max Temp      573\n",
      "Humidity      573\n",
      "Cloudiness    573\n",
      "Wind Speed    573\n",
      "Country       573\n",
      "Date          573\n",
      "dtype: int64\n",
      "There's 573 cities data retrieved out of 630 cities.\n",
      "Success rate is: 90.95%.\n"
     ]
    }
   ],
   "source": [
    "city_weather_df = pd.DataFrame(city_weather_data)\n",
    "city_weather_df.to_csv(output_data_file, index = False)\n",
    "\n",
    "print(city_weather_df.count())\n",
    "\n",
    "city_retrieved = city_weather_df[\"City\"].count()\n",
    "print(f\"There's %s cities data retrieved out of {len(cities)} cities.\" % city_retrieved)\n",
    "\n",
    "\n",
    "success_rate = round((city_retrieved / len(cities) * 100), 2)\n",
    "print(f\"Success rate is: %s\" % success_rate  + \"%.\")"
   ]
  },
  {
   "cell_type": "code",
   "execution_count": 6,
   "metadata": {},
   "outputs": [
    {
     "data": {
      "text/html": [
       "<div>\n",
       "<style scoped>\n",
       "    .dataframe tbody tr th:only-of-type {\n",
       "        vertical-align: middle;\n",
       "    }\n",
       "\n",
       "    .dataframe tbody tr th {\n",
       "        vertical-align: top;\n",
       "    }\n",
       "\n",
       "    .dataframe thead th {\n",
       "        text-align: right;\n",
       "    }\n",
       "</style>\n",
       "<table border=\"1\" class=\"dataframe\">\n",
       "  <thead>\n",
       "    <tr style=\"text-align: right;\">\n",
       "      <th></th>\n",
       "      <th>City</th>\n",
       "      <th>Lat</th>\n",
       "      <th>Lng</th>\n",
       "      <th>Max Temp</th>\n",
       "      <th>Humidity</th>\n",
       "      <th>Cloudiness</th>\n",
       "      <th>Wind Speed</th>\n",
       "      <th>Country</th>\n",
       "      <th>Date</th>\n",
       "    </tr>\n",
       "  </thead>\n",
       "  <tbody>\n",
       "    <tr>\n",
       "      <th>0</th>\n",
       "      <td>Mataura</td>\n",
       "      <td>-46.1927</td>\n",
       "      <td>168.8643</td>\n",
       "      <td>70.48</td>\n",
       "      <td>46</td>\n",
       "      <td>86</td>\n",
       "      <td>5.21</td>\n",
       "      <td>NZ</td>\n",
       "      <td>1647664491</td>\n",
       "    </tr>\n",
       "    <tr>\n",
       "      <th>1</th>\n",
       "      <td>Ribeira</td>\n",
       "      <td>42.7461</td>\n",
       "      <td>-8.4439</td>\n",
       "      <td>51.73</td>\n",
       "      <td>85</td>\n",
       "      <td>0</td>\n",
       "      <td>3.44</td>\n",
       "      <td>ES</td>\n",
       "      <td>1647664491</td>\n",
       "    </tr>\n",
       "    <tr>\n",
       "      <th>2</th>\n",
       "      <td>Albany</td>\n",
       "      <td>42.6001</td>\n",
       "      <td>-73.9662</td>\n",
       "      <td>50.72</td>\n",
       "      <td>78</td>\n",
       "      <td>100</td>\n",
       "      <td>2.10</td>\n",
       "      <td>US</td>\n",
       "      <td>1647664249</td>\n",
       "    </tr>\n",
       "    <tr>\n",
       "      <th>3</th>\n",
       "      <td>Auki</td>\n",
       "      <td>-8.7676</td>\n",
       "      <td>160.7034</td>\n",
       "      <td>83.62</td>\n",
       "      <td>74</td>\n",
       "      <td>92</td>\n",
       "      <td>4.14</td>\n",
       "      <td>SB</td>\n",
       "      <td>1647664491</td>\n",
       "    </tr>\n",
       "    <tr>\n",
       "      <th>4</th>\n",
       "      <td>Nanlong</td>\n",
       "      <td>31.3533</td>\n",
       "      <td>106.0631</td>\n",
       "      <td>75.85</td>\n",
       "      <td>57</td>\n",
       "      <td>100</td>\n",
       "      <td>8.41</td>\n",
       "      <td>CN</td>\n",
       "      <td>1647664492</td>\n",
       "    </tr>\n",
       "    <tr>\n",
       "      <th>...</th>\n",
       "      <td>...</td>\n",
       "      <td>...</td>\n",
       "      <td>...</td>\n",
       "      <td>...</td>\n",
       "      <td>...</td>\n",
       "      <td>...</td>\n",
       "      <td>...</td>\n",
       "      <td>...</td>\n",
       "      <td>...</td>\n",
       "    </tr>\n",
       "    <tr>\n",
       "      <th>568</th>\n",
       "      <td>Bač</td>\n",
       "      <td>45.3919</td>\n",
       "      <td>19.2367</td>\n",
       "      <td>26.60</td>\n",
       "      <td>77</td>\n",
       "      <td>21</td>\n",
       "      <td>3.42</td>\n",
       "      <td>RS</td>\n",
       "      <td>1647664637</td>\n",
       "    </tr>\n",
       "    <tr>\n",
       "      <th>569</th>\n",
       "      <td>Seoul</td>\n",
       "      <td>37.5683</td>\n",
       "      <td>126.9778</td>\n",
       "      <td>42.37</td>\n",
       "      <td>81</td>\n",
       "      <td>100</td>\n",
       "      <td>13.80</td>\n",
       "      <td>KR</td>\n",
       "      <td>1647664402</td>\n",
       "    </tr>\n",
       "    <tr>\n",
       "      <th>570</th>\n",
       "      <td>Cervo</td>\n",
       "      <td>43.6702</td>\n",
       "      <td>-7.4101</td>\n",
       "      <td>50.22</td>\n",
       "      <td>80</td>\n",
       "      <td>9</td>\n",
       "      <td>5.12</td>\n",
       "      <td>ES</td>\n",
       "      <td>1647664637</td>\n",
       "    </tr>\n",
       "    <tr>\n",
       "      <th>571</th>\n",
       "      <td>Rajanpur</td>\n",
       "      <td>29.1035</td>\n",
       "      <td>70.3250</td>\n",
       "      <td>92.97</td>\n",
       "      <td>16</td>\n",
       "      <td>0</td>\n",
       "      <td>2.28</td>\n",
       "      <td>PK</td>\n",
       "      <td>1647664638</td>\n",
       "    </tr>\n",
       "    <tr>\n",
       "      <th>572</th>\n",
       "      <td>Rūdbār</td>\n",
       "      <td>30.1500</td>\n",
       "      <td>62.6000</td>\n",
       "      <td>55.60</td>\n",
       "      <td>34</td>\n",
       "      <td>0</td>\n",
       "      <td>8.32</td>\n",
       "      <td>AF</td>\n",
       "      <td>1647664638</td>\n",
       "    </tr>\n",
       "  </tbody>\n",
       "</table>\n",
       "<p>573 rows × 9 columns</p>\n",
       "</div>"
      ],
      "text/plain": [
       "         City      Lat       Lng  Max Temp  Humidity  Cloudiness  Wind Speed  \\\n",
       "0     Mataura -46.1927  168.8643     70.48        46          86        5.21   \n",
       "1     Ribeira  42.7461   -8.4439     51.73        85           0        3.44   \n",
       "2      Albany  42.6001  -73.9662     50.72        78         100        2.10   \n",
       "3        Auki  -8.7676  160.7034     83.62        74          92        4.14   \n",
       "4     Nanlong  31.3533  106.0631     75.85        57         100        8.41   \n",
       "..        ...      ...       ...       ...       ...         ...         ...   \n",
       "568       Bač  45.3919   19.2367     26.60        77          21        3.42   \n",
       "569     Seoul  37.5683  126.9778     42.37        81         100       13.80   \n",
       "570     Cervo  43.6702   -7.4101     50.22        80           9        5.12   \n",
       "571  Rajanpur  29.1035   70.3250     92.97        16           0        2.28   \n",
       "572    Rūdbār  30.1500   62.6000     55.60        34           0        8.32   \n",
       "\n",
       "    Country        Date  \n",
       "0        NZ  1647664491  \n",
       "1        ES  1647664491  \n",
       "2        US  1647664249  \n",
       "3        SB  1647664491  \n",
       "4        CN  1647664492  \n",
       "..      ...         ...  \n",
       "568      RS  1647664637  \n",
       "569      KR  1647664402  \n",
       "570      ES  1647664637  \n",
       "571      PK  1647664638  \n",
       "572      AF  1647664638  \n",
       "\n",
       "[573 rows x 9 columns]"
      ]
     },
     "execution_count": 6,
     "metadata": {},
     "output_type": "execute_result"
    }
   ],
   "source": [
    "city_weather_df"
   ]
  },
  {
   "cell_type": "markdown",
   "metadata": {},
   "source": [
    "## Inspect the data and remove the cities where the humidity > 100%.\n",
    "----\n",
    "Skip this step if there are no cities that have humidity > 100%. "
   ]
  },
  {
   "cell_type": "code",
   "execution_count": 7,
   "metadata": {},
   "outputs": [
    {
     "name": "stdout",
     "output_type": "stream",
     "text": [
      "By sorting columns by Humidity decending we see that there is no humidity > 100%\n"
     ]
    },
    {
     "data": {
      "text/html": [
       "<div>\n",
       "<style scoped>\n",
       "    .dataframe tbody tr th:only-of-type {\n",
       "        vertical-align: middle;\n",
       "    }\n",
       "\n",
       "    .dataframe tbody tr th {\n",
       "        vertical-align: top;\n",
       "    }\n",
       "\n",
       "    .dataframe thead th {\n",
       "        text-align: right;\n",
       "    }\n",
       "</style>\n",
       "<table border=\"1\" class=\"dataframe\">\n",
       "  <thead>\n",
       "    <tr style=\"text-align: right;\">\n",
       "      <th></th>\n",
       "      <th>City</th>\n",
       "      <th>Lat</th>\n",
       "      <th>Lng</th>\n",
       "      <th>Max Temp</th>\n",
       "      <th>Humidity</th>\n",
       "      <th>Cloudiness</th>\n",
       "      <th>Wind Speed</th>\n",
       "      <th>Country</th>\n",
       "      <th>Date</th>\n",
       "    </tr>\n",
       "  </thead>\n",
       "  <tbody>\n",
       "    <tr>\n",
       "      <th>32</th>\n",
       "      <td>Macaé</td>\n",
       "      <td>-22.3708</td>\n",
       "      <td>-41.7869</td>\n",
       "      <td>74.95</td>\n",
       "      <td>100</td>\n",
       "      <td>0</td>\n",
       "      <td>4.61</td>\n",
       "      <td>BR</td>\n",
       "      <td>1647664453</td>\n",
       "    </tr>\n",
       "    <tr>\n",
       "      <th>371</th>\n",
       "      <td>Grindavik</td>\n",
       "      <td>63.8424</td>\n",
       "      <td>-22.4338</td>\n",
       "      <td>32.47</td>\n",
       "      <td>100</td>\n",
       "      <td>100</td>\n",
       "      <td>6.91</td>\n",
       "      <td>IS</td>\n",
       "      <td>1647664587</td>\n",
       "    </tr>\n",
       "    <tr>\n",
       "      <th>193</th>\n",
       "      <td>Aras</td>\n",
       "      <td>42.5617</td>\n",
       "      <td>-2.3560</td>\n",
       "      <td>37.81</td>\n",
       "      <td>100</td>\n",
       "      <td>26</td>\n",
       "      <td>4.61</td>\n",
       "      <td>ES</td>\n",
       "      <td>1647664544</td>\n",
       "    </tr>\n",
       "    <tr>\n",
       "      <th>123</th>\n",
       "      <td>Kiryat Gat</td>\n",
       "      <td>31.6100</td>\n",
       "      <td>34.7642</td>\n",
       "      <td>54.39</td>\n",
       "      <td>100</td>\n",
       "      <td>32</td>\n",
       "      <td>5.73</td>\n",
       "      <td>IL</td>\n",
       "      <td>1647664525</td>\n",
       "    </tr>\n",
       "    <tr>\n",
       "      <th>111</th>\n",
       "      <td>Santarém</td>\n",
       "      <td>-2.4431</td>\n",
       "      <td>-54.7083</td>\n",
       "      <td>73.53</td>\n",
       "      <td>100</td>\n",
       "      <td>75</td>\n",
       "      <td>3.44</td>\n",
       "      <td>BR</td>\n",
       "      <td>1647664522</td>\n",
       "    </tr>\n",
       "  </tbody>\n",
       "</table>\n",
       "</div>"
      ],
      "text/plain": [
       "           City      Lat      Lng  Max Temp  Humidity  Cloudiness  Wind Speed  \\\n",
       "32        Macaé -22.3708 -41.7869     74.95       100           0        4.61   \n",
       "371   Grindavik  63.8424 -22.4338     32.47       100         100        6.91   \n",
       "193        Aras  42.5617  -2.3560     37.81       100          26        4.61   \n",
       "123  Kiryat Gat  31.6100  34.7642     54.39       100          32        5.73   \n",
       "111    Santarém  -2.4431 -54.7083     73.53       100          75        3.44   \n",
       "\n",
       "    Country        Date  \n",
       "32       BR  1647664453  \n",
       "371      IS  1647664587  \n",
       "193      ES  1647664544  \n",
       "123      IL  1647664525  \n",
       "111      BR  1647664522  "
      ]
     },
     "execution_count": 7,
     "metadata": {},
     "output_type": "execute_result"
    }
   ],
   "source": [
    "print(\"By sorting columns by Humidity decending we see that there is no humidity > 100%\")\n",
    "humid_sort = city_weather_df.sort_values(by='Humidity', ascending=False)\n",
    "\n",
    "humid_sort.head()"
   ]
  },
  {
   "cell_type": "code",
   "execution_count": 8,
   "metadata": {},
   "outputs": [
    {
     "name": "stdout",
     "output_type": "stream",
     "text": [
      "count    573.000000\n",
      "mean      70.944154\n",
      "std       23.251672\n",
      "min        1.000000\n",
      "25%       61.000000\n",
      "50%       77.000000\n",
      "75%       88.000000\n",
      "max      100.000000\n",
      "Name: Humidity, dtype: float64\n",
      "By showing that there is the exact count of cities (526) we know there are no cities have Humidity over 100%\n"
     ]
    }
   ],
   "source": [
    "#  Get the indices of cities that have humidity over 100%.\n",
    "test_stats = city_weather_df[\"Humidity\"].describe()\n",
    "print(test_stats)\n",
    "\n",
    "if city_weather_df[\"Humidity\"].max() <= 100:\n",
    "    print(f\"By showing that there is the exact count of cities (526) we know there are no cities have Humidity over 100%\")"
   ]
  },
  {
   "cell_type": "code",
   "execution_count": 9,
   "metadata": {},
   "outputs": [],
   "source": [
    "# Make a new DataFrame equal to the city data to drop all humidity outliers by index.\n",
    "# Passing \"inplace=False\" will make a copy of the city_data DataFrame, which we call \"clean_city_data\".\n"
   ]
  },
  {
   "cell_type": "code",
   "execution_count": null,
   "metadata": {},
   "outputs": [],
   "source": [
    "\n"
   ]
  },
  {
   "cell_type": "markdown",
   "metadata": {},
   "source": [
    "## Plotting the Data\n",
    "* Use proper labeling of the plots using plot titles (including date of analysis) and axes labels.\n",
    "* Save the plotted figures as .pngs."
   ]
  },
  {
   "cell_type": "markdown",
   "metadata": {},
   "source": [
    "## Latitude vs. Temperature Plot"
   ]
  },
  {
   "cell_type": "code",
   "execution_count": 10,
   "metadata": {},
   "outputs": [],
   "source": [
    "lat = city_weather_df[\"Lat\"]\n",
    "max_temp = city_weather_df[\"Max Temp\"]\n",
    "humidity = city_weather_df[\"Humidity\"]\n",
    "cloudiness = city_weather_df[\"Cloudiness\"]\n",
    "wind_speed = city_weather_df[\"Wind Speed\"]"
   ]
  },
  {
   "cell_type": "code",
   "execution_count": 11,
   "metadata": {},
   "outputs": [],
   "source": [
    "def plot_scatter(ydata, ylbl, title, save_graph):\n",
    "    \n",
    "    plt.scatter(lat, ydata, linewidths = 1, marker = \"o\", edgecolors = \"black\", color = \"blue\")\n",
    "    plt.title(title)\n",
    "    plt.xlabel(\"Latitude\")\n",
    "    plt.ylabel(ylbl)\n",
    "    plt.tight_layout()\n",
    "    plt.grid(True)\n",
    "    plt.savefig(\"../output_data/\" + save_graph)"
   ]
  },
  {
   "cell_type": "code",
   "execution_count": 12,
   "metadata": {
    "scrolled": true
   },
   "outputs": [
    {
     "data": {
      "image/png": "[encoded data removed]",
      "text/plain": [
       "<Figure size 432x288 with 1 Axes>"
      ]
     },
     "metadata": {
      "needs_background": "light"
     },
     "output_type": "display_data"
    }
   ],
   "source": [
    "ylbl = \"Max. Temp. (F)\"\n",
    "save_graph = \"Lat_Temp.png\"\n",
    "title = \"City Latitude vs. Max Temperature (%s)\" % time.strftime(\"%x\")\n",
    "plot_scatter(max_temp, ylbl, title, save_graph)"
   ]
  },
  {
   "cell_type": "markdown",
   "metadata": {},
   "source": [
    "## Latitude vs. Humidity Plot"
   ]
  },
  {
   "cell_type": "code",
   "execution_count": 13,
   "metadata": {},
   "outputs": [
    {
     "data": {
      "image/png": "[encoded data removed]",
      "text/plain": [
       "<Figure size 432x288 with 1 Axes>"
      ]
     },
     "metadata": {
      "needs_background": "light"
     },
     "output_type": "display_data"
    }
   ],
   "source": [
    "ylbl = \"Humidity (%)\"\n",
    "save_graph = \"Lat_Humid.png\"\n",
    "title = \"City Latitude vs. Humidity (%s)\" % time.strftime(\"%x\")\n",
    "plot_scatter(humidity, ylbl, title, save_graph)"
   ]
  },
  {
   "cell_type": "markdown",
   "metadata": {},
   "source": [
    "## Latitude vs. Cloudiness Plot"
   ]
  },
  {
   "cell_type": "code",
   "execution_count": 14,
   "metadata": {},
   "outputs": [
    {
     "data": {
      "image/png": "[encoded data removed]",
      "text/plain": [
       "<Figure size 432x288 with 1 Axes>"
      ]
     },
     "metadata": {
      "needs_background": "light"
     },
     "output_type": "display_data"
    }
   ],
   "source": [
    "ylbl = \"Cloudiness (%)\"\n",
    "save_graph = \"Lat_Cloud.png\"\n",
    "title = \"City Latitude vs. Cloudiness (%s)\" % time.strftime(\"%x\")\n",
    "plot_scatter(cloudiness, ylbl, title, save_graph)"
   ]
  },
  {
   "cell_type": "markdown",
   "metadata": {},
   "source": [
    "## Latitude vs. Wind Speed Plot"
   ]
  },
  {
   "cell_type": "code",
   "execution_count": 15,
   "metadata": {},
   "outputs": [
    {
     "data": {
      "image/png": "[encoded data removed]",
      "text/plain": [
       "<Figure size 432x288 with 1 Axes>"
      ]
     },
     "metadata": {
      "needs_background": "light"
     },
     "output_type": "display_data"
    }
   ],
   "source": [
    "ylbl = \"Wind Speed (mph)\"\n",
    "save_graph = \"Lat_Wind.png\"\n",
    "title = \"City Latitude vs. Wind Speed (%s)\" % time.strftime(\"%x\")\n",
    "plot_scatter(wind_speed, ylbl, title, save_graph)"
   ]
  },
  {
   "cell_type": "markdown",
   "metadata": {},
   "source": [
    "## Linear Regression"
   ]
  },
  {
   "cell_type": "code",
   "execution_count": 16,
   "metadata": {},
   "outputs": [
    {
     "name": "stdout",
     "output_type": "stream",
     "text": [
      "   index        City      Lat       Lng  Max Temp  Humidity  Cloudiness  \\\n",
      "0      1     Ribeira  42.7461   -8.4439     51.73        85           0   \n",
      "1      2      Albany  42.6001  -73.9662     50.72        78         100   \n",
      "2      4     Nanlong  31.3533  106.0631     75.85        57         100   \n",
      "3      6  Nanortalik  60.1432  -45.2371     16.23        81          90   \n",
      "4      7    Westport  41.1415  -73.3579     55.31        96         100   \n",
      "\n",
      "   Wind Speed Country        Date  \n",
      "0        3.44      ES  1647664491  \n",
      "1        2.10      US  1647664249  \n",
      "2        8.41      CN  1647664492  \n",
      "3        5.21      GL  1647664492  \n",
      "4        5.99      US  1647664493  \n",
      "   index       City      Lat       Lng  Max Temp  Humidity  Cloudiness  \\\n",
      "0      0    Mataura -46.1927  168.8643     70.48        46          86   \n",
      "1      3       Auki  -8.7676  160.7034     83.62        74          92   \n",
      "2      5  Mahébourg -20.4081   57.7000     81.25        94          40   \n",
      "3     10     Trelew -43.2490  -65.3051     51.21        51           0   \n",
      "4     12      Vaini -21.2000 -175.2000     81.12        79         100   \n",
      "\n",
      "   Wind Speed Country        Date  \n",
      "0        5.21      NZ  1647664491  \n",
      "1        4.14      SB  1647664491  \n",
      "2        3.44      MU  1647664492  \n",
      "3        5.28      AR  1647664493  \n",
      "4       26.26      TO  1647664495  \n"
     ]
    }
   ],
   "source": [
    "# Create Northern Hemisphere DataFrames\n",
    "northern_hemisphere = city_weather_df.loc[city_weather_df[\"Lat\"] > 0.0]\n",
    "northern_hemisphere.reset_index(inplace = True)\n",
    "\n",
    "# Create Southern Hemisphere DataFrames\n",
    "southern_hemisphere = city_weather_df.loc[city_weather_df[\"Lat\"] < 0.0]\n",
    "southern_hemisphere.reset_index(inplace = True)\n",
    "\n",
    "print(northern_hemisphere.head())\n",
    "print(southern_hemisphere.head())"
   ]
  },
  {
   "cell_type": "code",
   "execution_count": 17,
   "metadata": {},
   "outputs": [],
   "source": [
    "nlat = northern_hemisphere[\"Lat\"]\n",
    "nmax_temp = northern_hemisphere[\"Max Temp\"]\n",
    "nhumidity = northern_hemisphere[\"Humidity\"]\n",
    "ncloudiness = northern_hemisphere[\"Cloudiness\"]\n",
    "nwind_speed = northern_hemisphere[\"Wind Speed\"]\n",
    "\n",
    "slat = southern_hemisphere[\"Lat\"]\n",
    "smax_temp = southern_hemisphere[\"Max Temp\"]\n",
    "shumidity = southern_hemisphere[\"Humidity\"]\n",
    "scloudiness = southern_hemisphere[\"Cloudiness\"]\n",
    "swind_speed = southern_hemisphere[\"Wind Speed\"]"
   ]
  },
  {
   "cell_type": "code",
   "execution_count": 18,
   "metadata": {},
   "outputs": [],
   "source": [
    "def plot_linear_regression(xdata, ydata, ylbl, lblpos, title, save_graph):\n",
    "    (slope, intercept, rvalue, pvalue, stderr) = linregress(xdata, ydata)\n",
    "    color = \"orange\"\n",
    "    print(f\"The r-squared is: {rvalue}\")\n",
    "    regress_values = xdata * slope + intercept\n",
    "    line_eq = \"y = \" + str(round(slope, 2)) + \"x + \" + str(round(intercept, 2))\n",
    "\n",
    "    plt.scatter(xdata, ydata, linewidths = 1, marker = \"o\", edgecolors = \"black\", color = \"blue\")\n",
    "    plt.plot(xdata,regress_values, color)\n",
    "    plt.annotate(line_eq, lblpos, fontsize = 15, color = color)\n",
    "    plt.title(title)\n",
    "    plt.xlabel(\"Latitude\")\n",
    "    plt.ylabel(ylbl)\n",
    "    plt.tight_layout()\n",
    "    plt.savefig(\"../output_data/\" + save_graph)"
   ]
  },
  {
   "cell_type": "markdown",
   "metadata": {},
   "source": [
    "####  Northern Hemisphere - Max Temp vs. Latitude Linear Regression"
   ]
  },
  {
   "cell_type": "code",
   "execution_count": 19,
   "metadata": {},
   "outputs": [
    {
     "name": "stdout",
     "output_type": "stream",
     "text": [
      "The r-squared is: -0.8714335158471038\n"
     ]
    },
    {
     "data": {
      "image/png": "[encoded data removed]",
      "text/plain": [
       "<Figure size 432x288 with 1 Axes>"
      ]
     },
     "metadata": {
      "needs_background": "light"
     },
     "output_type": "display_data"
    }
   ],
   "source": [
    "ylbl = \"Max. Temp. (F)\"\n",
    "lblpos = (0, 20)\n",
    "save_graph = \"NLat_Temp.png\"\n",
    "title = \"Northern Hemisphere City Latitude vs. Max Temperature (%s)\" % time.strftime(\"%x\")\n",
    "plot_linear_regression(nlat, nmax_temp, ylbl, lblpos, title, save_graph)"
   ]
  },
  {
   "cell_type": "markdown",
   "metadata": {},
   "source": [
    "####  Southern Hemisphere - Max Temp vs. Latitude Linear Regression"
   ]
  },
  {
   "cell_type": "code",
   "execution_count": 20,
   "metadata": {},
   "outputs": [
    {
     "name": "stdout",
     "output_type": "stream",
     "text": [
      "The r-squared is: 0.49007154606964975\n"
     ]
    },
    {
     "data": {
      "image/png": "[encoded data removed]",
      "text/plain": [
       "<Figure size 432x288 with 1 Axes>"
      ]
     },
     "metadata": {
      "needs_background": "light"
     },
     "output_type": "display_data"
    }
   ],
   "source": [
    "ylbl = \"Max. Temp. (F)\"\n",
    "lblpos = (-25, 45)\n",
    "save_graph = \"SLat_Temp.png\"\n",
    "title = \"Southern Hemisphere City Latitude vs. Max Temperature (%s)\" % time.strftime(\"%x\")\n",
    "plot_linear_regression(slat, smax_temp, ylbl, lblpos, title, save_graph)"
   ]
  },
  {
   "cell_type": "markdown",
   "metadata": {},
   "source": [
    "####  Northern Hemisphere - Humidity (%) vs. Latitude Linear Regression"
   ]
  },
  {
   "cell_type": "code",
   "execution_count": 21,
   "metadata": {},
   "outputs": [
    {
     "name": "stdout",
     "output_type": "stream",
     "text": [
      "The r-squared is: 0.4942007891317416\n"
     ]
    },
    {
     "data": {
      "image/png": "[encoded data removed]",
      "text/plain": [
       "<Figure size 432x288 with 1 Axes>"
      ]
     },
     "metadata": {
      "needs_background": "light"
     },
     "output_type": "display_data"
    }
   ],
   "source": [
    "ylbl = \"Humidity (%)\"\n",
    "lblpos = (45, 10)\n",
    "save_graph = \"NLat_Humid\"\n",
    "title = \"Northern Hemisphere City Latitude vs. Humidity (%%) (%s)\" % time.strftime(\"%x\")\n",
    "plot_linear_regression(nlat, nhumidity, ylbl, lblpos, title, save_graph)"
   ]
  },
  {
   "cell_type": "markdown",
   "metadata": {},
   "source": [
    "####  Southern Hemisphere - Humidity (%) vs. Latitude Linear Regression"
   ]
  },
  {
   "cell_type": "code",
   "execution_count": 22,
   "metadata": {},
   "outputs": [
    {
     "name": "stdout",
     "output_type": "stream",
     "text": [
      "The r-squared is: 0.36224398586201245\n"
     ]
    },
    {
     "data": {
      "image/png": "[encoded data removed]",
      "text/plain": [
       "<Figure size 432x288 with 1 Axes>"
      ]
     },
     "metadata": {
      "needs_background": "light"
     },
     "output_type": "display_data"
    }
   ],
   "source": [
    "ylbl = \"Humidity (%)\"\n",
    "lblpos = (-55, 25)\n",
    "save_graph = \"SLat_Humid\"\n",
    "title = \"Southern Hemisphere City Latitude vs. Humidity (%%) (%s)\" % time.strftime(\"%x\")\n",
    "plot_linear_regression(slat, shumidity, ylbl, lblpos, title, save_graph)"
   ]
  },
  {
   "cell_type": "markdown",
   "metadata": {},
   "source": [
    "####  Northern Hemisphere - Cloudiness (%) vs. Latitude Linear Regression"
   ]
  },
  {
   "cell_type": "code",
   "execution_count": 23,
   "metadata": {},
   "outputs": [
    {
     "name": "stdout",
     "output_type": "stream",
     "text": [
      "The r-squared is: 0.20444170080144236\n"
     ]
    },
    {
     "data": {
      "image/png": "[encoded data removed]",
      "text/plain": [
       "<Figure size 432x288 with 1 Axes>"
      ]
     },
     "metadata": {
      "needs_background": "light"
     },
     "output_type": "display_data"
    }
   ],
   "source": [
    "ylbl = \"Cloudiness (%)\"\n",
    "lblpos = (0, 5)\n",
    "save_graph = \"NLat_Cloud\"\n",
    "title = \"Northern Hemisphere City Latitude vs. Cloudiness (%%) (%s)\" % time.strftime(\"%x\")\n",
    "plot_linear_regression(nlat, ncloudiness, ylbl, lblpos, title, save_graph)"
   ]
  },
  {
   "cell_type": "markdown",
   "metadata": {},
   "source": [
    "####  Southern Hemisphere - Cloudiness (%) vs. Latitude Linear Regression"
   ]
  },
  {
   "cell_type": "code",
   "execution_count": 24,
   "metadata": {},
   "outputs": [
    {
     "name": "stdout",
     "output_type": "stream",
     "text": [
      "The r-squared is: 0.2162139203457606\n"
     ]
    },
    {
     "data": {
      "image/png": "[encoded data removed]",
      "text/plain": [
       "<Figure size 432x288 with 1 Axes>"
      ]
     },
     "metadata": {
      "needs_background": "light"
     },
     "output_type": "display_data"
    }
   ],
   "source": [
    "ylbl = \"Cloudiness (%)\"\n",
    "lblpos = (-55, 5)\n",
    "save_graph = \"SLat_Cloud\"\n",
    "title = \"Southern Hemisphere City Latitude vs. Cloudiness (%%) (%s)\" % time.strftime(\"%x\")\n",
    "plot_linear_regression(slat, scloudiness, ylbl, lblpos, title, save_graph)"
   ]
  },
  {
   "cell_type": "markdown",
   "metadata": {},
   "source": [
    "####  Northern Hemisphere - Wind Speed (mph) vs. Latitude Linear Regression"
   ]
  },
  {
   "cell_type": "code",
   "execution_count": 25,
   "metadata": {},
   "outputs": [
    {
     "name": "stdout",
     "output_type": "stream",
     "text": [
      "The r-squared is: 0.1498893786786599\n"
     ]
    },
    {
     "data": {
      "image/png": "[encoded data removed]",
      "text/plain": [
       "<Figure size 432x288 with 1 Axes>"
      ]
     },
     "metadata": {
      "needs_background": "light"
     },
     "output_type": "display_data"
    }
   ],
   "source": [
    "ylbl = \"Wind Speed (mph)\"\n",
    "lblpos = (50, 30)\n",
    "save_graph = \"NLat_Wind\"\n",
    "title = \"Northern Hemisphere City Latitude vs. Wind Speed (mph) (%s)\" % time.strftime(\"%x\")\n",
    "plot_linear_regression(nlat, nwind_speed, ylbl, lblpos, title, save_graph)"
   ]
  },
  {
   "cell_type": "markdown",
   "metadata": {},
   "source": [
    "####  Southern Hemisphere - Wind Speed (mph) vs. Latitude Linear Regression"
   ]
  },
  {
   "cell_type": "code",
   "execution_count": 26,
   "metadata": {},
   "outputs": [
    {
     "name": "stdout",
     "output_type": "stream",
     "text": [
      "The r-squared is: -0.25517043378565524\n"
     ]
    },
    {
     "data": {
      "image/png": "[encoded data removed]",
      "text/plain": [
       "<Figure size 432x288 with 1 Axes>"
      ]
     },
     "metadata": {
      "needs_background": "light"
     },
     "output_type": "display_data"
    }
   ],
   "source": [
    "ylbl = \"Wind Speed (mph)\"\n",
    "lblpos = (-55, 3.5)\n",
    "save_graph = \"SLat_Wind\"\n",
    "title = \"Southern Hemisphere City Latitude vs. Wind Speed (mph) (%s)\" % time.strftime(\"%x\")\n",
    "plot_linear_regression(slat, swind_speed, ylbl, lblpos, title, save_graph)"
   ]
  },
  {
   "cell_type": "code",
   "execution_count": null,
   "metadata": {},
   "outputs": [],
   "source": []
  }
 ],
 "metadata": {
  "anaconda-cloud": {},
  "kernel_info": {
   "name": "python3"
  },
  "kernelspec": {
   "display_name": "Python 3",
   "language": "python",
   "name": "python3"
  },
  "language_info": {
   "codemirror_mode": {
    "name": "ipython",
    "version": 3
   },
   "file_extension": ".py",
   "mimetype": "text/x-python",
   "name": "python",
   "nbconvert_exporter": "python",
   "pygments_lexer": "ipython3",
   "version": "3.6.10"
  },
  "latex_envs": {
   "LaTeX_envs_menu_present": true,
   "autoclose": false,
   "autocomplete": true,
   "bibliofile": "biblio.bib",
   "cite_by": "apalike",
   "current_citInitial": 1,
   "eqLabelWithNumbers": true,
   "eqNumInitial": 1,
   "hotkeys": {
    "equation": "Ctrl-E",
    "itemize": "Ctrl-I"
   },
   "labels_anchors": false,
   "latex_user_defs": false,
   "report_style_numbering": false,
   "user_envs_cfg": false
  },
  "nteract": {
   "version": "0.12.3"
  }
 },
 "nbformat": 4,
 "nbformat_minor": 2
}
